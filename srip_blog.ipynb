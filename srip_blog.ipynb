{
 "cells": [
  {
   "cell_type": "markdown",
   "metadata": {},
   "source": [
    "---\n",
    "title: \"SRIP\"\n",
    "author: \"Devansh Lodha\"\n",
    "date: \"2025-26-02\"\n",
    "description: \"We'll binarize images of Tom and Jerry, Pink Panther and some book pages. Then, we'll challenge Otsu's method with noisy inputs.\"\n",
    "categories: [code, probability theory, image processing]\n",
    "image: \"image.png\"\n",
    "jupyter: python3\n",
    "format: html\n",
    "bibliography: references.bib\n",
    "---"
   ]
  },
  {
   "cell_type": "code",
   "execution_count": 12,
   "metadata": {},
   "outputs": [],
   "source": [
    "import os\n",
    "import numpy as np\n",
    "import matplotlib.pyplot as plt"
   ]
  },
  {
   "cell_type": "markdown",
   "metadata": {},
   "source": [
    "## Data Exploration and Understanding"
   ]
  },
  {
   "cell_type": "markdown",
   "metadata": {},
   "source": [
    "31 cm native resolution imagery. \n",
    "In total, there are 2,542 object labels following the same naming convention as the corresponding image chips.\n",
    "The naming convention for all labels includes the name of the dataset, image type, tile identification number, minimum x bound, minimum y bound, and window size. \n",
    "The minimum bounds correspond to the origin of the chip in the full tile. An example label would be \"solarpanels_native_1__x0_0_y0_6845_dxdy_416.txt,\" \n",
    "which is a label from native Tile 1 in the solar panel dataset, with a minimum x bound of 0, minimum y bound of 6845 and window size of 416 by 416 pixels. \n",
    "The corresponding image chip for this example would be \"solarpanels_native_1__x0_0_y0_6845_dxdy_416.tif.\"\n",
    "\n",
    "Labels are provided in .txt format where a single row in a label file contains the following information for one solar panel object: category, x-center, y-center, x-width, and y-width.  \n",
    "Center and width values are normalized by chip sizes (416 by 416 pixels for native chips)\n",
    "Each row in a label file corresponds to one object in the corresponding image chip. A single label file contains all of the object labels in the corresponding image chip.\n",
    "\n",
    "The geocoordinates for each solar panel object may be determined using the native resolution labels (found in the labels_native directory). \n",
    "The center and width values for each object, along with the relative location information provided by the naming convention for each label, \n",
    "may be used to determine the pixel coordinates for each object in the full, corresponding native resolution tile. \n",
    "The pixel coordinates may be translated to geocoordinates using the EPSG:32633 coordinate system and the following geotransform for each tile:\n",
    "\n",
    "Tile 1: (307670.04, 0.31, 0.0, 5434427.100000001, 0.0, -0.31)\n",
    "Tile 2: (312749.07999999996, 0.31, 0.0, 5403952.860000001, 0.0, -0.31)\n",
    "Tile 3: (312749.07999999996, 0.31, 0.0, 5363320.540000001, 0.0, -0.31)"
   ]
  },
  {
   "cell_type": "code",
   "execution_count": 3,
   "metadata": {},
   "outputs": [],
   "source": [
    "images_path = \"data/images\"\n",
    "labels_path = \"data/labels\""
   ]
  },
  {
   "cell_type": "markdown",
   "metadata": {},
   "source": [
    "### Dataset Statistics"
   ]
  },
  {
   "cell_type": "markdown",
   "metadata": {},
   "source": [
    "We'll first calculate the total instances of solar panels in the dataset"
   ]
  },
  {
   "cell_type": "code",
   "execution_count": 4,
   "metadata": {},
   "outputs": [
    {
     "name": "stdout",
     "output_type": "stream",
     "text": [
      "Total instances of solar panels in the dataset: 29625\n"
     ]
    }
   ],
   "source": [
    "total_instances = 0\n",
    "labels_per_image = {}\n",
    "\n",
    "for filename in os.listdir(labels_path):\n",
    "    if filename.endswith(\".txt\"):\n",
    "        filepath = os.path.join(labels_path, filename)\n",
    "        with open(filepath, 'r') as f:\n",
    "            lines = f.readlines()\n",
    "            num_instances = len(lines)\n",
    "            total_instances += num_instances\n",
    "            labels_per_image[filename] = num_instances\n",
    "\n",
    "print(f\"Total instances of solar panels in the dataset: {total_instances}\")"
   ]
  },
  {
   "cell_type": "markdown",
   "metadata": {},
   "source": [
    "Now we'll calculate value counts of labels per image"
   ]
  },
  {
   "cell_type": "code",
   "execution_count": 5,
   "metadata": {},
   "outputs": [
    {
     "name": "stdout",
     "output_type": "stream",
     "text": [
      "\n",
      "Value counts of labels per image:\n",
      "81 images have 1 labels.\n",
      "167 images have 2 labels.\n",
      "221 images have 3 labels.\n",
      "218 images have 4 labels.\n",
      "217 images have 5 labels.\n",
      "189 images have 6 labels.\n",
      "170 images have 7 labels.\n",
      "184 images have 8 labels.\n",
      "169 images have 9 labels.\n",
      "121 images have 10 labels.\n",
      "97 images have 11 labels.\n",
      "84 images have 12 labels.\n",
      "69 images have 13 labels.\n",
      "49 images have 14 labels.\n",
      "46 images have 15 labels.\n",
      "41 images have 16 labels.\n",
      "36 images have 17 labels.\n",
      "25 images have 18 labels.\n",
      "29 images have 19 labels.\n",
      "14 images have 20 labels.\n",
      "4 images have 21 labels.\n",
      "1 images have 22 labels.\n",
      "4 images have 23 labels.\n",
      "2 images have 24 labels.\n",
      "4 images have 25 labels.\n",
      "3 images have 26 labels.\n",
      "5 images have 27 labels.\n",
      "5 images have 28 labels.\n",
      "15 images have 29 labels.\n",
      "20 images have 30 labels.\n",
      "8 images have 31 labels.\n",
      "7 images have 32 labels.\n",
      "13 images have 33 labels.\n",
      "19 images have 34 labels.\n",
      "10 images have 35 labels.\n",
      "6 images have 36 labels.\n",
      "17 images have 37 labels.\n",
      "13 images have 38 labels.\n",
      "6 images have 39 labels.\n",
      "9 images have 40 labels.\n",
      "10 images have 41 labels.\n",
      "12 images have 42 labels.\n",
      "11 images have 43 labels.\n",
      "4 images have 44 labels.\n",
      "2 images have 45 labels.\n",
      "5 images have 46 labels.\n",
      "9 images have 47 labels.\n",
      "3 images have 48 labels.\n",
      "5 images have 49 labels.\n",
      "6 images have 50 labels.\n",
      "9 images have 51 labels.\n",
      "16 images have 52 labels.\n",
      "4 images have 53 labels.\n",
      "6 images have 54 labels.\n",
      "1 images have 55 labels.\n",
      "1 images have 56 labels.\n",
      "3 images have 58 labels.\n",
      "2 images have 59 labels.\n",
      "2 images have 60 labels.\n",
      "1 images have 61 labels.\n",
      "6 images have 62 labels.\n",
      "3 images have 63 labels.\n",
      "1 images have 64 labels.\n",
      "3 images have 65 labels.\n",
      "4 images have 66 labels.\n",
      "1 images have 67 labels.\n",
      "1 images have 71 labels.\n",
      "1 images have 72 labels.\n",
      "1 images have 73 labels.\n",
      "5 images have 74 labels.\n",
      "1 images have 75 labels.\n",
      "2 images have 76 labels.\n",
      "2 images have 77 labels.\n",
      "1 images have 78 labels.\n"
     ]
    }
   ],
   "source": [
    "labels_counts = {}\n",
    "for filename, count in labels_per_image.items():\n",
    "    labels_counts[count] = labels_counts.get(count, 0) + 1\n",
    "\n",
    "print(\"\\nValue counts of labels per image:\")\n",
    "for count, num_images in sorted(labels_counts.items()):\n",
    "    print(f\"{num_images} images have {count} labels.\")"
   ]
  },
  {
   "cell_type": "markdown",
   "metadata": {},
   "source": [
    "### Area of Solar Panels"
   ]
  },
  {
   "cell_type": "markdown",
   "metadata": {},
   "source": [
    "To calculate the area of solar panels, we'll need to first convert the bounding boxes coordinates to their actual geographical coordinates."
   ]
  },
  {
   "cell_type": "code",
   "execution_count": 14,
   "metadata": {},
   "outputs": [
    {
     "name": "stdout",
     "output_type": "stream",
     "text": [
      "\n",
      "Statistics of the area of solar panels in meters:\n",
      "Mean area: 191.52 square meters\n",
      "Standard deviation of area: 630.70 square meters\n"
     ]
    },
    {
     "data": {
      "image/png": "[encoded data removed]",
      "text/plain": [
       "<Figure size 800x600 with 1 Axes>"
      ]
     },
     "metadata": {},
     "output_type": "display_data"
    }
   ],
   "source": [
    "areas = []\n",
    "geotransforms = {\n",
    "    1: (307670.04, 0.31, 0.0, 5434427.100000001, 0.0, -0.31),\n",
    "    2: (312749.07999999996, 0.31, 0.0, 5403952.860000001, 0.0, -0.31),\n",
    "    3: (312749.07999999996, 0.31, 0.0, 5363320.540000001, 0.0, -0.31)\n",
    "}\n",
    "chip_size = 416\n",
    "\n",
    "for filename in os.listdir(labels_path):\n",
    "    if filename.endswith(\".txt\"):\n",
    "        filepath = os.path.join(labels_path, filename)\n",
    "        parts = filename.split('_')\n",
    "        tile_num = int(parts[2])\n",
    "        xmin_chip = int(parts[5])\n",
    "        ymin_chip = int(parts[7])\n",
    "        dxdy = int(parts[9].split('.')[0]) # window size\n",
    "        \n",
    "        geotransform = geotransforms[tile_num]\n",
    "        with open(filepath, 'r') as f:\n",
    "            for line in f:\n",
    "                category, x_center_norm, y_center_norm, x_width_norm, y_width_norm = map(float, line.strip().split())\n",
    "\n",
    "                # Normalized to pixel coords in chip (416x416)\n",
    "                x_center_chip = x_center_norm * chip_size\n",
    "                y_center_chip = y_center_norm * chip_size\n",
    "                x_width_chip = x_width_norm * chip_size\n",
    "                y_width_chip = y_width_norm * chip_size\n",
    "\n",
    "                # Chip coords to tile coords\n",
    "                xmin_tile_px = xmin_chip\n",
    "                ymin_tile_px = ymin_chip\n",
    "                x_center_tile = xmin_tile_px + x_center_chip\n",
    "                y_center_tile = ymin_tile_px + y_center_chip\n",
    "                x_width_tile = x_width_chip\n",
    "                y_width_tile = y_width_chip\n",
    "\n",
    "                # Pixel coords to geocoords (EPSG:32633)\n",
    "                x_geo = geotransform[0] + x_center_tile * geotransform[1] + y_center_tile * geotransform[2]\n",
    "                y_geo = geotransform[3] + x_center_tile * geotransform[4] + y_center_tile * geotransform[5]\n",
    "                x_geo_width = x_width_tile * geotransform[1] # width in meters\n",
    "                y_geo_height = y_width_tile * abs(geotransform[5]) # height in meters (geotransform[5] is negative)\n",
    "\n",
    "                area = x_geo_width * y_geo_height\n",
    "                areas.append(area)\n",
    "\n",
    "print(\"\\nStatistics of the area of solar panels in meters:\")\n",
    "print(f\"Mean area: {np.mean(areas):.2f} square meters\")\n",
    "print(f\"Standard deviation of area: {np.std(areas):.2f} square meters\")\n",
    "\n",
    "# Histogram of areas\n",
    "plt.figure(figsize=(8, 6))\n",
    "plt.hist(areas, bins=50, edgecolor='black')\n",
    "plt.title('Histogram of Solar Panel Areas')\n",
    "plt.xlabel('Area (square meters)')\n",
    "plt.ylabel('Frequency')\n",
    "plt.grid(axis='y', alpha=0.75)\n",
    "plt.show()"
   ]
  },
  {
   "cell_type": "markdown",
   "metadata": {},
   "source": [
    "The distribution is skewed, indicating that smaller solar panels are more frequent than larger ones."
   ]
  },
  {
   "cell_type": "markdown",
   "metadata": {},
   "source": [
    "## Implementing Fundamental Functions"
   ]
  },
  {
   "cell_type": "code",
   "execution_count": 19,
   "metadata": {},
   "outputs": [],
   "source": [
    "from shapely.geometry import Polygon\n",
    "import supervision as sv"
   ]
  },
  {
   "cell_type": "markdown",
   "metadata": {},
   "source": [
    "### Intersection over Union (IoU)"
   ]
  },
  {
   "cell_type": "markdown",
   "metadata": {},
   "source": [
    "#### Using Shapely"
   ]
  },
  {
   "cell_type": "markdown",
   "metadata": {},
   "source": [
    "We use shapely's Polygon class to calculate the intersection over union of two bounding boxes. For this first we need a function to convert the bounding box coordinates to a polygon."
   ]
  },
  {
   "cell_type": "code",
   "execution_count": 20,
   "metadata": {},
   "outputs": [],
   "source": [
    "def yolo_to_polygon(box_yolo, img_w, img_h):\n",
    "    _, x_center_norm, y_center_norm, width_norm, height_norm = box_yolo\n",
    "    x_center = x_center_norm * img_w\n",
    "    y_center = y_center_norm * img_h\n",
    "    width = width_norm * img_w\n",
    "    height = height_norm * img_h\n",
    "    x_min = x_center - width / 2\n",
    "    y_min = y_center - height / 2\n",
    "    x_max = x_center + width / 2\n",
    "    y_max = y_center + height / 2\n",
    "    return Polygon([(x_min, y_min), (x_max, y_min), (x_max, y_max), (x_min, y_max)])\n",
    "\n",
    "def iou_shapely(box1_yolo, box2_yolo, image_width, image_height):\n",
    "    _, x_center1_norm, y_center1_norm, width1_norm, height1_norm = box1_yolo\n",
    "    _, x_center2_norm, y_center2_norm, width2_norm, height2_norm = box2_yolo\n",
    "\n",
    "    poly1 = yolo_to_polygon(box1_yolo, image_width, image_height)\n",
    "    poly2 = yolo_to_polygon(box2_yolo, image_width, image_height)\n",
    "\n",
    "    intersection_area = poly1.intersection(poly2).area\n",
    "    union_area = poly1.union(poly2).area\n",
    "    if union_area == 0:\n",
    "        return 0.0\n",
    "    return intersection_area / union_area"
   ]
  },
  {
   "cell_type": "markdown",
   "metadata": {},
   "source": [
    "#### Using Supervision"
   ]
  },
  {
   "cell_type": "markdown",
   "metadata": {},
   "source": [
    "sv.Detections expects coordinates in xyxy format"
   ]
  },
  {
   "cell_type": "code",
   "execution_count": 23,
   "metadata": {},
   "outputs": [],
   "source": [
    "def yolo_to_xyxy(box_yolo, img_w, img_h):\n",
    "    _, x_center_norm, y_center_norm, width_norm, height_norm = box_yolo\n",
    "    x_center = x_center_norm * img_w\n",
    "    y_center = y_center_norm * img_h\n",
    "    width = width_norm * img_w\n",
    "    height = height_norm * img_h\n",
    "    x_min = x_center - width / 2\n",
    "    y_min = y_center - height / 2\n",
    "    x_max = x_center + width / 2\n",
    "    y_max = y_center + height / 2\n",
    "    return np.array([x_min, y_min, x_max, y_max])\n",
    "\n",
    "def iou_supervision(box1_yolo, box2_yolo, image_width, image_height):\n",
    "    box1_xyxy = yolo_to_xyxy(box1_yolo, image_width, image_height)\n",
    "    box2_xyxy = yolo_to_xyxy(box2_yolo, image_width, image_height)\n",
    "\n",
    "    detections1 = sv.Detections(xyxy=box1_xyxy[np.newaxis, :], confidence=np.array([1.0]), class_id=np.array([0]))\n",
    "    detections2 = sv.Detections(xyxy=box2_xyxy[np.newaxis, :], confidence=np.array([1.0]), class_id=np.array([0]))\n",
    "\n",
    "    iou_matrix = sv.box_iou_batch(detections1.xyxy, detections2.xyxy) # pairwise IoU between boxes\n",
    "    return iou_matrix[0, 0] if iou_matrix.size > 0 else 0.0"
   ]
  },
  {
   "cell_type": "markdown",
   "metadata": {},
   "source": [
    "#### Comparing IoUs"
   ]
  },
  {
   "cell_type": "markdown",
   "metadata": {},
   "source": [
    "Use images from dataset here"
   ]
  },
  {
   "cell_type": "code",
   "execution_count": 25,
   "metadata": {},
   "outputs": [
    {
     "name": "stdout",
     "output_type": "stream",
     "text": [
      "\n",
      "IoU using shapely: 0.1429\n",
      "IoU using supervision: 0.1429\n"
     ]
    }
   ],
   "source": [
    "image_size = 100\n",
    "box1_yolo = [0, 0.5, 0.5, 0.2, 0.2] # category, x_center_norm, y_center_norm, x_width_norm, y_width_norm\n",
    "box2_yolo = [0, 0.6, 0.6, 0.2, 0.2]\n",
    "\n",
    "iou_shapely_val = iou_shapely(box1_yolo, box2_yolo, image_size, image_size)\n",
    "iou_supervision_val = iou_supervision(box1_yolo, box2_yolo, image_size, image_size)\n",
    "\n",
    "print(f\"\\nIoU using shapely: {iou_shapely_val:.4f}\")\n",
    "print(f\"IoU using supervision: {iou_supervision_val:.4f}\")"
   ]
  },
  {
   "cell_type": "markdown",
   "metadata": {},
   "source": [
    "The IoU values from shapely and supervision are the same!"
   ]
  },
  {
   "cell_type": "markdown",
   "metadata": {},
   "source": [
    "### Average Precision (AP)"
   ]
  },
  {
   "cell_type": "markdown",
   "metadata": {},
   "source": [
    "#### Pascal VOC 11 point interpolation method"
   ]
  },
  {
   "cell_type": "code",
   "execution_count": null,
   "metadata": {},
   "outputs": [],
   "source": [
    "def average_precision_voc11(precisions, recalls):\n",
    "    \"\"\"\n",
    "    Calculates Average Precision using Pascal VOC 11-point interpolation.\n",
    "    \"\"\"\n",
    "    voc_recall_points = np.linspace(0, 1, 11)\n",
    "    interpolated_precisions = []\n",
    "    for r in voc_recall_points:\n",
    "        mask = recalls >= r\n",
    "        if np.any(mask):\n",
    "            interpolated_precisions.append(np.max(precisions[mask]))\n",
    "        else:\n",
    "            interpolated_precisions.append(0.0) # or could be np.nan, depending on handling\n",
    "    return np.mean(interpolated_precisions)"
   ]
  },
  {
   "cell_type": "markdown",
   "metadata": {},
   "source": [
    "#### COCO 101-point interpolation method"
   ]
  },
  {
   "cell_type": "code",
   "execution_count": null,
   "metadata": {},
   "outputs": [],
   "source": [
    "def average_precision_coco101(precisions, recalls):\n",
    "    \"\"\"\n",
    "    Calculates Average Precision using COCO 101-point interpolation.\n",
    "    \"\"\"\n",
    "    coco_recall_points = np.linspace(0, 1, 101)\n",
    "    interpolated_precisions = np.interp(coco_recall_points, recalls[::-1], precisions[::-1], left=0, right=0) #reverse to make recall increasing\n",
    "    return np.mean(interpolated_precisions)"
   ]
  },
  {
   "cell_type": "markdown",
   "metadata": {},
   "source": [
    "#### Area under Precision-Recall Curve (AP) method"
   ]
  },
  {
   "cell_type": "code",
   "execution_count": null,
   "metadata": {},
   "outputs": [],
   "source": [
    "def average_precision_auc(precisions, recalls):\n",
    "    \"\"\"\n",
    "    Calculates Average Precision using Area Under the Precision-Recall Curve (AUC).\n",
    "    \"\"\"\n",
    "    return auc(recalls, precisions)"
   ]
  },
  {
   "cell_type": "markdown",
   "metadata": {},
   "source": [
    "#### Comparing AP50s"
   ]
  },
  {
   "cell_type": "code",
   "execution_count": null,
   "metadata": {},
   "outputs": [],
   "source": [
    "# Test AP functions with random boxes\n",
    "def generate_random_detections(num_images=10, image_size=100, box_size=20):\n",
    "    all_true_boxes = []\n",
    "    all_pred_boxes = []\n",
    "    all_scores = []\n",
    "    for _ in range(num_images):\n",
    "        true_boxes_img = []\n",
    "        pred_boxes_img = []\n",
    "        scores_img = []\n",
    "        for _ in range(10): # 10 boxes per image\n",
    "            # Ground truth box\n",
    "            x_center_gt = random.uniform(0.2, 0.8) # center within image\n",
    "            y_center_gt = random.uniform(0.2, 0.8)\n",
    "            true_box = [0, x_center_gt, y_center_gt, box_size/image_size, box_size/image_size]\n",
    "            true_boxes_img.append(true_box)\n",
    "\n",
    "            # Predicted box (slightly shifted from GT for some overlap)\n",
    "            x_center_pred = x_center_gt + random.uniform(-0.1, 0.1)\n",
    "            y_center_pred = y_center_gt + random.uniform(-0.1, 0.1)\n",
    "            pred_box = [0, max(0.01, min(0.99, x_center_pred)), max(0.01, min(0.99, y_center_pred)), box_size/image_size, box_size/image_size] # clamp to avoid boxes outside image\n",
    "            pred_boxes_img.append(pred_box)\n",
    "            scores_img.append(random.uniform(0.5, 1.0)) # Assign some confidence score\n",
    "\n",
    "        all_true_boxes.append(true_boxes_img)\n",
    "        all_pred_boxes.append(pred_boxes_img)\n",
    "        all_scores.append(scores_img)\n",
    "    return all_true_boxes, all_pred_boxes, all_scores\n",
    "\n",
    "random_true_boxes, random_pred_boxes, random_scores = generate_random_detections()\n",
    "\n",
    "def compute_ap_and_pr(true_boxes_list, pred_boxes_list, scores_list, iou_threshold=0.5, image_size=100):\n",
    "    \"\"\"Computes AP and PR curve data for a list of images with GT and predictions.\"\"\"\n",
    "    all_matches = []\n",
    "    for true_boxes_img, pred_boxes_img, scores_img in zip(true_boxes_list, pred_boxes_list, scores_list):\n",
    "        matches_img = []\n",
    "        used_gt_boxes = [False] * len(true_boxes_img) # Track which GT boxes are matched\n",
    "\n",
    "        # Sort predictions by confidence score (descending)\n",
    "        pred_indices_sorted = np.argsort(scores_img)[::-1]\n",
    "        sorted_pred_boxes = [pred_boxes_img[i] for i in pred_indices_sorted]\n",
    "\n",
    "        for pred_box in sorted_pred_boxes:\n",
    "            best_iou = 0\n",
    "            best_gt_index = -1\n",
    "            for gt_index, true_box in enumerate(true_boxes_img):\n",
    "                if not used_gt_boxes[gt_index]: # Only consider unmatched GT boxes\n",
    "                    iou = iou_shapely(true_box, pred_box, image_size, image_size)\n",
    "                    if iou > best_iou:\n",
    "                        best_iou = iou\n",
    "                        best_gt_index = gt_index\n",
    "\n",
    "            if best_iou > iou_threshold:\n",
    "                matches_img.append(1.0) # TP\n",
    "                used_gt_boxes[best_gt_index] = True # Mark GT box as used\n",
    "            else:\n",
    "                matches_img.append(0.0) # FP\n",
    "        all_matches.append(matches_img)\n",
    "\n",
    "    # Flatten matches and scores across all images\n",
    "    flat_matches = np.concatenate(all_matches) if all_matches else np.array([])\n",
    "    flat_scores = np.concatenate([scores_list[i] for i in range(len(scores_list))]) if scores_list else np.array([])\n",
    "\n",
    "    # Calculate Precision and Recall\n",
    "    if flat_matches.size > 0:\n",
    "        tp_cumulative = np.cumsum(flat_matches)\n",
    "        fp_cumulative = np.cumsum(1 - flat_matches)\n",
    "        precision = tp_cumulative / (tp_cumulative + fp_cumulative)\n",
    "        recall = tp_cumulative / len(np.concatenate(true_boxes_list)) if np.concatenate(true_boxes_list).size > 0 else np.zeros_like(precision) # Avoid division by zero if no GT boxes\n",
    "        return precision, recall\n",
    "    else:\n",
    "        return np.array([1.0]), np.array([0.0]) # Handle case with no predictions\n",
    "\n",
    "iou_threshold_ap50 = 0.5\n",
    "precisions, recalls = compute_ap_and_pr(random_true_boxes, random_pred_boxes, random_scores, iou_threshold=iou_threshold_ap50)\n",
    "\n",
    "ap_voc11 = average_precision_voc11(precisions, recalls)\n",
    "ap_coco101 = average_precision_coco101(precisions, recalls)\n",
    "ap_auc_val = average_precision_auc(precisions, recalls)\n",
    "\n",
    "print(f\"\\nAP50 using Pascal VOC 11-point interpolation: {ap_voc11:.4f}\")\n",
    "print(f\"AP50 using COCO 101-point interpolation: {ap_coco101:.4f}\")\n",
    "print(f\"AP50 using PR-AUC: {ap_auc_val:.4f}\")"
   ]
  }
 ],
 "metadata": {
  "kernelspec": {
   "display_name": "satellite_solar_detection_env",
   "language": "python",
   "name": "python3"
  },
  "language_info": {
   "codemirror_mode": {
    "name": "ipython",
    "version": 3
   },
   "file_extension": ".py",
   "mimetype": "text/x-python",
   "name": "python",
   "nbconvert_exporter": "python",
   "pygments_lexer": "ipython3",
   "version": "3.13.2"
  }
 },
 "nbformat": 4,
 "nbformat_minor": 2
}
